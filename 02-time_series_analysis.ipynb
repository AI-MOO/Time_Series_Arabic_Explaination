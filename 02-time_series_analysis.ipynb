{
 "cells": [
  {
   "cell_type": "markdown",
   "metadata": {},
   "source": [
    "# `Time Series Analysis` "
   ]
  },
  {
   "cell_type": "markdown",
   "metadata": {},
   "source": [
    "### Chapter 02: Time Series Handling with Pandas"
   ]
  },
  {
   "cell_type": "markdown",
   "metadata": {},
   "source": [
    "#### `Array and Data Frames` "
   ]
  },
  {
   "cell_type": "code",
   "execution_count": 7,
   "metadata": {},
   "outputs": [
    {
     "name": "stdout",
     "output_type": "stream",
     "text": [
      "[1 2 3 4]\n"
     ]
    },
    {
     "data": {
      "text/plain": [
       "numpy.ndarray"
      ]
     },
     "execution_count": 7,
     "metadata": {},
     "output_type": "execute_result"
    }
   ],
   "source": [
    "import numpy as np\n",
    "\n",
    "x = np.array([1,2,3,4])\n",
    "print(x)\n",
    "type(x)"
   ]
  },
  {
   "cell_type": "code",
   "execution_count": 15,
   "metadata": {},
   "outputs": [
    {
     "data": {
      "text/plain": [
       "a    1\n",
       "b    2\n",
       "c    3\n",
       "dtype: int64"
      ]
     },
     "execution_count": 15,
     "metadata": {},
     "output_type": "execute_result"
    }
   ],
   "source": [
    "import pandas as pd\n",
    "\n",
    "# Series مثال على الـ\n",
    "d = {'a': 1, 'b': 2, 'c': 3}\n",
    "ser = pd.Series(data=d, index=['a', 'b', 'c'])\n",
    "ser"
   ]
  },
  {
   "cell_type": "code",
   "execution_count": 16,
   "metadata": {},
   "outputs": [
    {
     "data": {
      "text/html": [
       "<div>\n",
       "<style scoped>\n",
       "    .dataframe tbody tr th:only-of-type {\n",
       "        vertical-align: middle;\n",
       "    }\n",
       "\n",
       "    .dataframe tbody tr th {\n",
       "        vertical-align: top;\n",
       "    }\n",
       "\n",
       "    .dataframe thead th {\n",
       "        text-align: right;\n",
       "    }\n",
       "</style>\n",
       "<table border=\"1\" class=\"dataframe\">\n",
       "  <thead>\n",
       "    <tr style=\"text-align: right;\">\n",
       "      <th></th>\n",
       "      <th>col1</th>\n",
       "      <th>col2</th>\n",
       "      <th>col3</th>\n",
       "    </tr>\n",
       "  </thead>\n",
       "  <tbody>\n",
       "    <tr>\n",
       "      <th>0</th>\n",
       "      <td>Cake</td>\n",
       "      <td>2</td>\n",
       "      <td>3.5</td>\n",
       "    </tr>\n",
       "    <tr>\n",
       "      <th>1</th>\n",
       "      <td>Orange</td>\n",
       "      <td>3</td>\n",
       "      <td>4.0</td>\n",
       "    </tr>\n",
       "    <tr>\n",
       "      <th>2</th>\n",
       "      <td>Eggs</td>\n",
       "      <td>5</td>\n",
       "      <td>10.0</td>\n",
       "    </tr>\n",
       "  </tbody>\n",
       "</table>\n",
       "</div>"
      ],
      "text/plain": [
       "     col1  col2  col3\n",
       "0    Cake     2   3.5\n",
       "1  Orange     3   4.0\n",
       "2    Eggs     5  10.0"
      ]
     },
     "execution_count": 16,
     "metadata": {},
     "output_type": "execute_result"
    }
   ],
   "source": [
    "# Dataframe  مثال على أطر البيانات\n",
    "d = {'col1': [\"Cake\", \"Orange\", \"Eggs\"], 'col2': [2, 3, 5], 'col3':[3.5, 4, 10]}\n",
    "df = pd.DataFrame(data=d)\n",
    "df"
   ]
  },
  {
   "cell_type": "code",
   "execution_count": 14,
   "metadata": {},
   "outputs": [
    {
     "data": {
      "text/html": [
       "<div>\n",
       "<style scoped>\n",
       "    .dataframe tbody tr th:only-of-type {\n",
       "        vertical-align: middle;\n",
       "    }\n",
       "\n",
       "    .dataframe tbody tr th {\n",
       "        vertical-align: top;\n",
       "    }\n",
       "\n",
       "    .dataframe thead th {\n",
       "        text-align: right;\n",
       "    }\n",
       "</style>\n",
       "<table border=\"1\" class=\"dataframe\">\n",
       "  <thead>\n",
       "    <tr style=\"text-align: right;\">\n",
       "      <th></th>\n",
       "      <th>Type</th>\n",
       "      <th>Quantity</th>\n",
       "      <th>Price</th>\n",
       "    </tr>\n",
       "  </thead>\n",
       "  <tbody>\n",
       "    <tr>\n",
       "      <th>0</th>\n",
       "      <td>Cake</td>\n",
       "      <td>2</td>\n",
       "      <td>3.5</td>\n",
       "    </tr>\n",
       "    <tr>\n",
       "      <th>1</th>\n",
       "      <td>Orange</td>\n",
       "      <td>3</td>\n",
       "      <td>4.0</td>\n",
       "    </tr>\n",
       "    <tr>\n",
       "      <th>2</th>\n",
       "      <td>Eggs</td>\n",
       "      <td>5</td>\n",
       "      <td>10.0</td>\n",
       "    </tr>\n",
       "    <tr>\n",
       "      <th>3</th>\n",
       "      <td>apple</td>\n",
       "      <td>4</td>\n",
       "      <td>5.0</td>\n",
       "    </tr>\n",
       "    <tr>\n",
       "      <th>4</th>\n",
       "      <td>Fish</td>\n",
       "      <td>5</td>\n",
       "      <td>20.0</td>\n",
       "    </tr>\n",
       "  </tbody>\n",
       "</table>\n",
       "</div>"
      ],
      "text/plain": [
       "     Type  Quantity  Price\n",
       "0    Cake         2    3.5\n",
       "1  Orange         3    4.0\n",
       "2    Eggs         5   10.0\n",
       "3   apple         4    5.0\n",
       "4    Fish         5   20.0"
      ]
     },
     "execution_count": 14,
     "metadata": {},
     "output_type": "execute_result"
    }
   ],
   "source": [
    "d = {'Type': [\"Cake\", \"Orange\", \"Eggs\", \"apple\", \"Fish\"], 'Quantity': [2, 3, 5, 4, 5], 'Price':[3.5, 4, 10, 5, 20]}\n",
    "df = pd.DataFrame(data=d)\n",
    "df"
   ]
  },
  {
   "cell_type": "markdown",
   "metadata": {},
   "source": [
    "#### `Dates and time creation using datetime module`"
   ]
  },
  {
   "cell_type": "code",
   "execution_count": 17,
   "metadata": {},
   "outputs": [
    {
     "name": "stdout",
     "output_type": "stream",
     "text": [
      "Arbitrary date:  2021-04-15 00:00:00\n",
      "Date and time:   2021-04-15 08:22:43\n",
      "Date right now:  2022-05-01 08:37:21.923584\n",
      "Date yesterday:  2022-04-30 08:37:21.923584\n"
     ]
    }
   ],
   "source": [
    "from datetime import datetime, timedelta\n",
    "\n",
    "# إنشاء تاريخ عشوائي\n",
    "print('Arbitrary date: ', end=' ')\n",
    "print(datetime(year=2021, month=4, day=15))\n",
    "\n",
    "# إنشاء تاريخ وتوقيت عشوائيين\n",
    "print('Date and time:  ', end=' ')\n",
    "print(datetime(year=2021, month=4, day=15, hour=8, minute=22, second=43))\n",
    "\n",
    "# التاريخ والتوقيت الآن\n",
    "print('Date right now: ', end=' ')\n",
    "print(datetime.now())\n",
    "\n",
    "#  استخراج التاريخ التوقيت في الأمس \n",
    "print('Date yesterday: ', end=' ')\n",
    "print(datetime.now() - timedelta(days=1))"
   ]
  },
  {
   "cell_type": "markdown",
   "metadata": {},
   "source": [
    "#### `Datetime variable methods`"
   ]
  },
  {
   "cell_type": "code",
   "execution_count": 19,
   "metadata": {},
   "outputs": [
    {
     "name": "stdout",
     "output_type": "stream",
     "text": [
      "Current Time: 2022-05-01 08:37:52.348365\n",
      "2022 5 1 8 37 52\n"
     ]
    }
   ],
   "source": [
    "now = datetime.now()\n",
    "print(f\"Current Time: {now}\")\n",
    "print(now.year, now.month, now.day, now.hour, now.minute, now.second)"
   ]
  },
  {
   "cell_type": "markdown",
   "metadata": {},
   "source": [
    "#### `Datetime Ranges `"
   ]
  },
  {
   "cell_type": "code",
   "execution_count": 21,
   "metadata": {},
   "outputs": [
    {
     "data": {
      "text/plain": [
       "[datetime.datetime(2022, 2, 13, 0, 0),\n",
       " datetime.datetime(2022, 2, 14, 0, 0),\n",
       " datetime.datetime(2022, 2, 15, 0, 0)]"
      ]
     },
     "execution_count": 21,
     "metadata": {},
     "output_type": "execute_result"
    }
   ],
   "source": [
    "from datetime import datetime\n",
    "\n",
    "date_list = [\n",
    "    datetime(2022, 2, 13),\n",
    "    datetime(2022, 2, 14),\n",
    "    datetime(2022, 2, 15) ]\n",
    "\n",
    "date_list"
   ]
  },
  {
   "cell_type": "code",
   "execution_count": 22,
   "metadata": {},
   "outputs": [
    {
     "data": {
      "text/plain": [
       "array(['2022-02-13', '2021-02-14', '2021-02-15'], dtype='datetime64[D]')"
      ]
     },
     "execution_count": 22,
     "metadata": {},
     "output_type": "execute_result"
    }
   ],
   "source": [
    "import numpy as np\n",
    "\n",
    "date_list = np.array(['2022-02-13', '2022-02-14', '2022-02-15'], \n",
    "                      dtype='datetime64')\n",
    "date_list"
   ]
  },
  {
   "cell_type": "code",
   "execution_count": 24,
   "metadata": {},
   "outputs": [
    {
     "data": {
      "text/plain": [
       "array(['2022-02-13T00:00:00', '2022-02-14T00:00:00',\n",
       "       '2022-02-15T00:00:00'], dtype='datetime64[s]')"
      ]
     },
     "execution_count": 24,
     "metadata": {},
     "output_type": "execute_result"
    }
   ],
   "source": [
    "date_list = np.array(['2022-02-13', '2022-02-14', '2022-02-15'], \n",
    "            dtype='datetime64[s]')\n",
    "date_list"
   ]
  },
  {
   "cell_type": "code",
   "execution_count": 31,
   "metadata": {},
   "outputs": [
    {
     "data": {
      "text/plain": [
       "array(['2022-02-13T00:00:00.000000000', '2022-02-14T00:00:00.000000000',\n",
       "       '2022-02-15T00:00:00.000000000'], dtype='datetime64[ns]')"
      ]
     },
     "execution_count": 31,
     "metadata": {},
     "output_type": "execute_result"
    }
   ],
   "source": [
    "\n",
    "date_list = np.array(['2022-02-13', '2022-02-14', '2022-02-15'], \n",
    "            dtype='datetime64[ns]')\n",
    "date_list"
   ]
  },
  {
   "cell_type": "code",
   "execution_count": 33,
   "metadata": {},
   "outputs": [
    {
     "data": {
      "text/plain": [
       "array(['2022-07-01', '2022-07-02', '2022-07-03', '2022-07-04',\n",
       "       '2022-07-05', '2022-07-06', '2022-07-07', '2022-07-08',\n",
       "       '2022-07-09'], dtype='datetime64[D]')"
      ]
     },
     "execution_count": 33,
     "metadata": {},
     "output_type": "execute_result"
    }
   ],
   "source": [
    "date_list = np.arange('2022-07-01', '2022-07-10', \n",
    "                      dtype='datetime64[D]')\n",
    "date_list"
   ]
  },
  {
   "cell_type": "code",
   "execution_count": 36,
   "metadata": {},
   "outputs": [
    {
     "data": {
      "text/plain": [
       "DatetimeIndex(['2022-07-01', '2022-07-02', '2022-07-03', '2022-07-04',\n",
       "               '2022-07-05', '2022-07-06', '2022-07-07', '2022-07-08',\n",
       "               '2022-07-09', '2022-07-10'],\n",
       "              dtype='datetime64[ns]', freq='D')"
      ]
     },
     "execution_count": 36,
     "metadata": {},
     "output_type": "execute_result"
    }
   ],
   "source": [
    "import pandas as pd\n",
    "\n",
    "date_list = pd.date_range(start='2022-07-01', \n",
    "                          end='2022-07-10')\n",
    "date_list"
   ]
  },
  {
   "cell_type": "code",
   "execution_count": 45,
   "metadata": {},
   "outputs": [
    {
     "data": {
      "text/plain": [
       "DatetimeIndex(['2022-07-01', '2022-07-02', '2022-07-03', '2022-07-04',\n",
       "               '2022-07-05', '2022-07-06', '2022-07-07', '2022-07-08',\n",
       "               '2022-07-09', '2022-07-10'],\n",
       "              dtype='datetime64[ns]', freq='D')"
      ]
     },
     "execution_count": 45,
     "metadata": {},
     "output_type": "execute_result"
    }
   ],
   "source": [
    "date_list = pd.date_range(start='2022-07-01', periods=10, freq='D')\n",
    "date_list"
   ]
  },
  {
   "cell_type": "code",
   "execution_count": 46,
   "metadata": {},
   "outputs": [
    {
     "data": {
      "text/plain": [
       "DatetimeIndex(['2022-12-31', '2023-12-31', '2024-12-31', '2025-12-31',\n",
       "               '2026-12-31', '2027-12-31', '2028-12-31', '2029-12-31',\n",
       "               '2030-12-31', '2031-12-31'],\n",
       "              dtype='datetime64[ns]', freq='A-DEC')"
      ]
     },
     "execution_count": 46,
     "metadata": {},
     "output_type": "execute_result"
    }
   ],
   "source": [
    "date_list = pd.date_range(start='2022-07-01', periods=10, freq='Y')\n",
    "date_list"
   ]
  },
  {
   "cell_type": "markdown",
   "metadata": {},
   "source": [
    "#### `Get Min(oldest) & Max(newest) dates`"
   ]
  },
  {
   "cell_type": "code",
   "execution_count": 48,
   "metadata": {},
   "outputs": [
    {
     "name": "stdout",
     "output_type": "stream",
     "text": [
      "Minimum date: 2022-07-01 00:00:00\n",
      "Maximum date: 2022-07-10 00:00:00\n"
     ]
    }
   ],
   "source": [
    "date_list = pd.date_range(start='2022-07-01', periods=10, freq='D')\n",
    "\n",
    "\n",
    "print(f'Minimum date: {date_list.min()}')\n",
    "print(f'Maximum date: {date_list.max()}')"
   ]
  },
  {
   "cell_type": "markdown",
   "metadata": {},
   "source": [
    "#### `Resampling`"
   ]
  },
  {
   "cell_type": "code",
   "execution_count": 61,
   "metadata": {},
   "outputs": [
    {
     "data": {
      "text/html": [
       "<div>\n",
       "<style scoped>\n",
       "    .dataframe tbody tr th:only-of-type {\n",
       "        vertical-align: middle;\n",
       "    }\n",
       "\n",
       "    .dataframe tbody tr th {\n",
       "        vertical-align: top;\n",
       "    }\n",
       "\n",
       "    .dataframe thead th {\n",
       "        text-align: right;\n",
       "    }\n",
       "</style>\n",
       "<table border=\"1\" class=\"dataframe\">\n",
       "  <thead>\n",
       "    <tr style=\"text-align: right;\">\n",
       "      <th></th>\n",
       "      <th>LTOTALNSA</th>\n",
       "    </tr>\n",
       "    <tr>\n",
       "      <th>DATE</th>\n",
       "      <th></th>\n",
       "    </tr>\n",
       "  </thead>\n",
       "  <tbody>\n",
       "    <tr>\n",
       "      <th>1976-01-01</th>\n",
       "      <td>864.6</td>\n",
       "    </tr>\n",
       "    <tr>\n",
       "      <th>1976-02-01</th>\n",
       "      <td>973.3</td>\n",
       "    </tr>\n",
       "    <tr>\n",
       "      <th>1976-03-01</th>\n",
       "      <td>1216.1</td>\n",
       "    </tr>\n",
       "    <tr>\n",
       "      <th>1976-04-01</th>\n",
       "      <td>1163.2</td>\n",
       "    </tr>\n",
       "    <tr>\n",
       "      <th>1976-05-01</th>\n",
       "      <td>1176.1</td>\n",
       "    </tr>\n",
       "    <tr>\n",
       "      <th>1976-06-01</th>\n",
       "      <td>1224.9</td>\n",
       "    </tr>\n",
       "    <tr>\n",
       "      <th>1976-07-01</th>\n",
       "      <td>1130.1</td>\n",
       "    </tr>\n",
       "  </tbody>\n",
       "</table>\n",
       "</div>"
      ],
      "text/plain": [
       "            LTOTALNSA\n",
       "DATE                 \n",
       "1976-01-01      864.6\n",
       "1976-02-01      973.3\n",
       "1976-03-01     1216.1\n",
       "1976-04-01     1163.2\n",
       "1976-05-01     1176.1\n",
       "1976-06-01     1224.9\n",
       "1976-07-01     1130.1"
      ]
     },
     "execution_count": 61,
     "metadata": {},
     "output_type": "execute_result"
    }
   ],
   "source": [
    "import pandas as pd\n",
    "\n",
    "df = pd.read_csv('datasets/LTOTALNSA.csv', index_col='DATE', parse_dates=True)\n",
    "df.head(7)"
   ]
  },
  {
   "cell_type": "markdown",
   "metadata": {},
   "source": [
    "#### `Resampling : Upesampling`"
   ]
  },
  {
   "cell_type": "code",
   "execution_count": 62,
   "metadata": {},
   "outputs": [
    {
     "data": {
      "text/html": [
       "<div>\n",
       "<style scoped>\n",
       "    .dataframe tbody tr th:only-of-type {\n",
       "        vertical-align: middle;\n",
       "    }\n",
       "\n",
       "    .dataframe tbody tr th {\n",
       "        vertical-align: top;\n",
       "    }\n",
       "\n",
       "    .dataframe thead th {\n",
       "        text-align: right;\n",
       "    }\n",
       "</style>\n",
       "<table border=\"1\" class=\"dataframe\">\n",
       "  <thead>\n",
       "    <tr style=\"text-align: right;\">\n",
       "      <th></th>\n",
       "      <th>LTOTALNSA</th>\n",
       "    </tr>\n",
       "    <tr>\n",
       "      <th>DATE</th>\n",
       "      <th></th>\n",
       "    </tr>\n",
       "  </thead>\n",
       "  <tbody>\n",
       "    <tr>\n",
       "      <th>1976-12-31</th>\n",
       "      <td>12969.8</td>\n",
       "    </tr>\n",
       "    <tr>\n",
       "      <th>1977-12-31</th>\n",
       "      <td>14481.9</td>\n",
       "    </tr>\n",
       "    <tr>\n",
       "      <th>1978-12-31</th>\n",
       "      <td>14981.0</td>\n",
       "    </tr>\n",
       "    <tr>\n",
       "      <th>1979-12-31</th>\n",
       "      <td>13758.4</td>\n",
       "    </tr>\n",
       "    <tr>\n",
       "      <th>1980-12-31</th>\n",
       "      <td>11197.5</td>\n",
       "    </tr>\n",
       "    <tr>\n",
       "      <th>1981-12-31</th>\n",
       "      <td>10563.6</td>\n",
       "    </tr>\n",
       "    <tr>\n",
       "      <th>1982-12-31</th>\n",
       "      <td>10357.3</td>\n",
       "    </tr>\n",
       "  </tbody>\n",
       "</table>\n",
       "</div>"
      ],
      "text/plain": [
       "            LTOTALNSA\n",
       "DATE                 \n",
       "1976-12-31    12969.8\n",
       "1977-12-31    14481.9\n",
       "1978-12-31    14981.0\n",
       "1979-12-31    13758.4\n",
       "1980-12-31    11197.5\n",
       "1981-12-31    10563.6\n",
       "1982-12-31    10357.3"
      ]
     },
     "execution_count": 62,
     "metadata": {},
     "output_type": "execute_result"
    }
   ],
   "source": [
    "yearly_totals = df.resample(rule='Y').sum()\n",
    "yearly_totals.head(7)"
   ]
  },
  {
   "cell_type": "markdown",
   "metadata": {},
   "source": [
    "#### `Resampling : Downsampling`"
   ]
  },
  {
   "cell_type": "code",
   "execution_count": 87,
   "metadata": {},
   "outputs": [
    {
     "data": {
      "text/html": [
       "<div>\n",
       "<style scoped>\n",
       "    .dataframe tbody tr th:only-of-type {\n",
       "        vertical-align: middle;\n",
       "    }\n",
       "\n",
       "    .dataframe tbody tr th {\n",
       "        vertical-align: top;\n",
       "    }\n",
       "\n",
       "    .dataframe thead th {\n",
       "        text-align: right;\n",
       "    }\n",
       "</style>\n",
       "<table border=\"1\" class=\"dataframe\">\n",
       "  <thead>\n",
       "    <tr style=\"text-align: right;\">\n",
       "      <th></th>\n",
       "      <th>LTOTALNSA</th>\n",
       "    </tr>\n",
       "    <tr>\n",
       "      <th>DATE</th>\n",
       "      <th></th>\n",
       "    </tr>\n",
       "  </thead>\n",
       "  <tbody>\n",
       "    <tr>\n",
       "      <th>1976-12-31</th>\n",
       "      <td>12969.800000</td>\n",
       "    </tr>\n",
       "    <tr>\n",
       "      <th>1977-01-31</th>\n",
       "      <td>13120.378969</td>\n",
       "    </tr>\n",
       "    <tr>\n",
       "      <th>1977-02-28</th>\n",
       "      <td>13254.038620</td>\n",
       "    </tr>\n",
       "    <tr>\n",
       "      <th>1977-03-31</th>\n",
       "      <td>13399.044409</td>\n",
       "    </tr>\n",
       "    <tr>\n",
       "      <th>1977-04-30</th>\n",
       "      <td>13536.009623</td>\n",
       "    </tr>\n",
       "    <tr>\n",
       "      <th>1977-05-31</th>\n",
       "      <td>13673.652110</td>\n",
       "    </tr>\n",
       "    <tr>\n",
       "      <th>1977-06-30</th>\n",
       "      <td>13802.696216</td>\n",
       "    </tr>\n",
       "    <tr>\n",
       "      <th>1977-07-31</th>\n",
       "      <td>13931.331712</td>\n",
       "    </tr>\n",
       "    <tr>\n",
       "      <th>1977-08-31</th>\n",
       "      <td>14054.759973</td>\n",
       "    </tr>\n",
       "    <tr>\n",
       "      <th>1977-09-30</th>\n",
       "      <td>14168.848857</td>\n",
       "    </tr>\n",
       "  </tbody>\n",
       "</table>\n",
       "</div>"
      ],
      "text/plain": [
       "               LTOTALNSA\n",
       "DATE                    \n",
       "1976-12-31  12969.800000\n",
       "1977-01-31  13120.378969\n",
       "1977-02-28  13254.038620\n",
       "1977-03-31  13399.044409\n",
       "1977-04-30  13536.009623\n",
       "1977-05-31  13673.652110\n",
       "1977-06-30  13802.696216\n",
       "1977-07-31  13931.331712\n",
       "1977-08-31  14054.759973\n",
       "1977-09-30  14168.848857"
      ]
     },
     "execution_count": 87,
     "metadata": {},
     "output_type": "execute_result"
    }
   ],
   "source": [
    "monthly_totals = yearly_totals.resample(rule='M')\n",
    "monthly_totals = monthly_totals.interpolate(method='spline', order=3)\n",
    "monthly_totals.head(10)"
   ]
  },
  {
   "cell_type": "markdown",
   "metadata": {},
   "source": [
    "#### `Shifting`"
   ]
  },
  {
   "cell_type": "code",
   "execution_count": 88,
   "metadata": {},
   "outputs": [
    {
     "data": {
      "text/html": [
       "<div>\n",
       "<style scoped>\n",
       "    .dataframe tbody tr th:only-of-type {\n",
       "        vertical-align: middle;\n",
       "    }\n",
       "\n",
       "    .dataframe tbody tr th {\n",
       "        vertical-align: top;\n",
       "    }\n",
       "\n",
       "    .dataframe thead th {\n",
       "        text-align: right;\n",
       "    }\n",
       "</style>\n",
       "<table border=\"1\" class=\"dataframe\">\n",
       "  <thead>\n",
       "    <tr style=\"text-align: right;\">\n",
       "      <th></th>\n",
       "      <th>LTOTALNSA</th>\n",
       "      <th>Shift_1</th>\n",
       "      <th>Shift_2</th>\n",
       "    </tr>\n",
       "    <tr>\n",
       "      <th>DATE</th>\n",
       "      <th></th>\n",
       "      <th></th>\n",
       "      <th></th>\n",
       "    </tr>\n",
       "  </thead>\n",
       "  <tbody>\n",
       "    <tr>\n",
       "      <th>1976-01-01</th>\n",
       "      <td>864.6</td>\n",
       "      <td>NaN</td>\n",
       "      <td>NaN</td>\n",
       "    </tr>\n",
       "    <tr>\n",
       "      <th>1976-02-01</th>\n",
       "      <td>973.3</td>\n",
       "      <td>864.6</td>\n",
       "      <td>NaN</td>\n",
       "    </tr>\n",
       "    <tr>\n",
       "      <th>1976-03-01</th>\n",
       "      <td>1216.1</td>\n",
       "      <td>973.3</td>\n",
       "      <td>864.6</td>\n",
       "    </tr>\n",
       "    <tr>\n",
       "      <th>1976-04-01</th>\n",
       "      <td>1163.2</td>\n",
       "      <td>1216.1</td>\n",
       "      <td>973.3</td>\n",
       "    </tr>\n",
       "    <tr>\n",
       "      <th>1976-05-01</th>\n",
       "      <td>1176.1</td>\n",
       "      <td>1163.2</td>\n",
       "      <td>1216.1</td>\n",
       "    </tr>\n",
       "  </tbody>\n",
       "</table>\n",
       "</div>"
      ],
      "text/plain": [
       "            LTOTALNSA  Shift_1  Shift_2\n",
       "DATE                                   \n",
       "1976-01-01      864.6      NaN      NaN\n",
       "1976-02-01      973.3    864.6      NaN\n",
       "1976-03-01     1216.1    973.3    864.6\n",
       "1976-04-01     1163.2   1216.1    973.3\n",
       "1976-05-01     1176.1   1163.2   1216.1"
      ]
     },
     "execution_count": 88,
     "metadata": {},
     "output_type": "execute_result"
    }
   ],
   "source": [
    "df_shift = df.copy()\n",
    "df_shift['Shift_1'] = df_shift['LTOTALNSA'].shift(1)\n",
    "df_shift['Shift_2'] = df_shift['LTOTALNSA'].shift(2)\n",
    "df_shift.head()"
   ]
  },
  {
   "cell_type": "code",
   "execution_count": 90,
   "metadata": {},
   "outputs": [
    {
     "data": {
      "text/html": [
       "<div>\n",
       "<style scoped>\n",
       "    .dataframe tbody tr th:only-of-type {\n",
       "        vertical-align: middle;\n",
       "    }\n",
       "\n",
       "    .dataframe tbody tr th {\n",
       "        vertical-align: top;\n",
       "    }\n",
       "\n",
       "    .dataframe thead th {\n",
       "        text-align: right;\n",
       "    }\n",
       "</style>\n",
       "<table border=\"1\" class=\"dataframe\">\n",
       "  <thead>\n",
       "    <tr style=\"text-align: right;\">\n",
       "      <th></th>\n",
       "      <th>LTOTALNSA</th>\n",
       "      <th>Shift_Neg1</th>\n",
       "      <th>Shift_Neg2</th>\n",
       "    </tr>\n",
       "    <tr>\n",
       "      <th>DATE</th>\n",
       "      <th></th>\n",
       "      <th></th>\n",
       "      <th></th>\n",
       "    </tr>\n",
       "  </thead>\n",
       "  <tbody>\n",
       "    <tr>\n",
       "      <th>2021-11-01</th>\n",
       "      <td>1014.411</td>\n",
       "      <td>1203.993</td>\n",
       "      <td>989.560</td>\n",
       "    </tr>\n",
       "    <tr>\n",
       "      <th>2021-12-01</th>\n",
       "      <td>1203.993</td>\n",
       "      <td>989.560</td>\n",
       "      <td>1045.307</td>\n",
       "    </tr>\n",
       "    <tr>\n",
       "      <th>2022-01-01</th>\n",
       "      <td>989.560</td>\n",
       "      <td>1045.307</td>\n",
       "      <td>1246.336</td>\n",
       "    </tr>\n",
       "    <tr>\n",
       "      <th>2022-02-01</th>\n",
       "      <td>1045.307</td>\n",
       "      <td>1246.336</td>\n",
       "      <td>NaN</td>\n",
       "    </tr>\n",
       "    <tr>\n",
       "      <th>2022-03-01</th>\n",
       "      <td>1246.336</td>\n",
       "      <td>NaN</td>\n",
       "      <td>NaN</td>\n",
       "    </tr>\n",
       "  </tbody>\n",
       "</table>\n",
       "</div>"
      ],
      "text/plain": [
       "            LTOTALNSA  Shift_Neg1  Shift_Neg2\n",
       "DATE                                         \n",
       "2021-11-01   1014.411    1203.993     989.560\n",
       "2021-12-01   1203.993     989.560    1045.307\n",
       "2022-01-01    989.560    1045.307    1246.336\n",
       "2022-02-01   1045.307    1246.336         NaN\n",
       "2022-03-01   1246.336         NaN         NaN"
      ]
     },
     "execution_count": 90,
     "metadata": {},
     "output_type": "execute_result"
    }
   ],
   "source": [
    "df_shift = df.copy()\n",
    "df_shift['Shift_Neg1'] = df_shift['LTOTALNSA'].shift(-1)\n",
    "df_shift['Shift_Neg2'] = df_shift['LTOTALNSA'].shift(-2)\n",
    "df_shift.tail()"
   ]
  },
  {
   "cell_type": "markdown",
   "metadata": {},
   "source": [
    "#### `Rolling`"
   ]
  },
  {
   "cell_type": "code",
   "execution_count": 96,
   "metadata": {},
   "outputs": [
    {
     "data": {
      "text/html": [
       "<div>\n",
       "<style scoped>\n",
       "    .dataframe tbody tr th:only-of-type {\n",
       "        vertical-align: middle;\n",
       "    }\n",
       "\n",
       "    .dataframe tbody tr th {\n",
       "        vertical-align: top;\n",
       "    }\n",
       "\n",
       "    .dataframe thead th {\n",
       "        text-align: right;\n",
       "    }\n",
       "</style>\n",
       "<table border=\"1\" class=\"dataframe\">\n",
       "  <thead>\n",
       "    <tr style=\"text-align: right;\">\n",
       "      <th></th>\n",
       "      <th>LTOTALNSA</th>\n",
       "      <th>QuarterRolling</th>\n",
       "      <th>YearRolling</th>\n",
       "    </tr>\n",
       "    <tr>\n",
       "      <th>DATE</th>\n",
       "      <th></th>\n",
       "      <th></th>\n",
       "      <th></th>\n",
       "    </tr>\n",
       "  </thead>\n",
       "  <tbody>\n",
       "    <tr>\n",
       "      <th>1976-01-01</th>\n",
       "      <td>864.6</td>\n",
       "      <td>NaN</td>\n",
       "      <td>NaN</td>\n",
       "    </tr>\n",
       "    <tr>\n",
       "      <th>1976-02-01</th>\n",
       "      <td>973.3</td>\n",
       "      <td>NaN</td>\n",
       "      <td>NaN</td>\n",
       "    </tr>\n",
       "    <tr>\n",
       "      <th>1976-03-01</th>\n",
       "      <td>1216.1</td>\n",
       "      <td>NaN</td>\n",
       "      <td>NaN</td>\n",
       "    </tr>\n",
       "    <tr>\n",
       "      <th>1976-04-01</th>\n",
       "      <td>1163.2</td>\n",
       "      <td>1054.300</td>\n",
       "      <td>NaN</td>\n",
       "    </tr>\n",
       "    <tr>\n",
       "      <th>1976-05-01</th>\n",
       "      <td>1176.1</td>\n",
       "      <td>1132.175</td>\n",
       "      <td>NaN</td>\n",
       "    </tr>\n",
       "    <tr>\n",
       "      <th>1976-06-01</th>\n",
       "      <td>1224.9</td>\n",
       "      <td>1195.075</td>\n",
       "      <td>NaN</td>\n",
       "    </tr>\n",
       "    <tr>\n",
       "      <th>1976-07-01</th>\n",
       "      <td>1130.1</td>\n",
       "      <td>1173.575</td>\n",
       "      <td>NaN</td>\n",
       "    </tr>\n",
       "    <tr>\n",
       "      <th>1976-08-01</th>\n",
       "      <td>994.9</td>\n",
       "      <td>1131.500</td>\n",
       "      <td>NaN</td>\n",
       "    </tr>\n",
       "    <tr>\n",
       "      <th>1976-09-01</th>\n",
       "      <td>1024.9</td>\n",
       "      <td>1093.700</td>\n",
       "      <td>NaN</td>\n",
       "    </tr>\n",
       "    <tr>\n",
       "      <th>1976-10-01</th>\n",
       "      <td>1103.7</td>\n",
       "      <td>1063.400</td>\n",
       "      <td>NaN</td>\n",
       "    </tr>\n",
       "    <tr>\n",
       "      <th>1976-11-01</th>\n",
       "      <td>1062.0</td>\n",
       "      <td>1046.375</td>\n",
       "      <td>NaN</td>\n",
       "    </tr>\n",
       "    <tr>\n",
       "      <th>1976-12-01</th>\n",
       "      <td>1036.0</td>\n",
       "      <td>1056.650</td>\n",
       "      <td>1080.816667</td>\n",
       "    </tr>\n",
       "    <tr>\n",
       "      <th>1977-01-01</th>\n",
       "      <td>945.0</td>\n",
       "      <td>1036.675</td>\n",
       "      <td>1087.516667</td>\n",
       "    </tr>\n",
       "    <tr>\n",
       "      <th>1977-02-01</th>\n",
       "      <td>1065.4</td>\n",
       "      <td>1027.100</td>\n",
       "      <td>1095.191667</td>\n",
       "    </tr>\n",
       "    <tr>\n",
       "      <th>1977-03-01</th>\n",
       "      <td>1414.0</td>\n",
       "      <td>1115.100</td>\n",
       "      <td>1111.683333</td>\n",
       "    </tr>\n",
       "  </tbody>\n",
       "</table>\n",
       "</div>"
      ],
      "text/plain": [
       "            LTOTALNSA  QuarterRolling  YearRolling\n",
       "DATE                                              \n",
       "1976-01-01      864.6             NaN          NaN\n",
       "1976-02-01      973.3             NaN          NaN\n",
       "1976-03-01     1216.1             NaN          NaN\n",
       "1976-04-01     1163.2        1054.300          NaN\n",
       "1976-05-01     1176.1        1132.175          NaN\n",
       "1976-06-01     1224.9        1195.075          NaN\n",
       "1976-07-01     1130.1        1173.575          NaN\n",
       "1976-08-01      994.9        1131.500          NaN\n",
       "1976-09-01     1024.9        1093.700          NaN\n",
       "1976-10-01     1103.7        1063.400          NaN\n",
       "1976-11-01     1062.0        1046.375          NaN\n",
       "1976-12-01     1036.0        1056.650  1080.816667\n",
       "1977-01-01      945.0        1036.675  1087.516667\n",
       "1977-02-01     1065.4        1027.100  1095.191667\n",
       "1977-03-01     1414.0        1115.100  1111.683333"
      ]
     },
     "execution_count": 96,
     "metadata": {},
     "output_type": "execute_result"
    }
   ],
   "source": [
    "df_rolling = df.copy()\n",
    "df_rolling['QuarterRolling'] = df_rolling['LTOTALNSA'].rolling(window=4).mean()\n",
    "df_rolling['YearRolling'] = df_rolling['LTOTALNSA'].rolling(window=12).mean()\n",
    "df_rolling.head(15)"
   ]
  },
  {
   "cell_type": "markdown",
   "metadata": {},
   "source": [
    "#### `Differencing`"
   ]
  },
  {
   "cell_type": "code",
   "execution_count": 97,
   "metadata": {},
   "outputs": [
    {
     "data": {
      "text/html": [
       "<div>\n",
       "<style scoped>\n",
       "    .dataframe tbody tr th:only-of-type {\n",
       "        vertical-align: middle;\n",
       "    }\n",
       "\n",
       "    .dataframe tbody tr th {\n",
       "        vertical-align: top;\n",
       "    }\n",
       "\n",
       "    .dataframe thead th {\n",
       "        text-align: right;\n",
       "    }\n",
       "</style>\n",
       "<table border=\"1\" class=\"dataframe\">\n",
       "  <thead>\n",
       "    <tr style=\"text-align: right;\">\n",
       "      <th></th>\n",
       "      <th>LTOTALNSA</th>\n",
       "      <th>Diff_1</th>\n",
       "      <th>Diff_2</th>\n",
       "    </tr>\n",
       "    <tr>\n",
       "      <th>DATE</th>\n",
       "      <th></th>\n",
       "      <th></th>\n",
       "      <th></th>\n",
       "    </tr>\n",
       "  </thead>\n",
       "  <tbody>\n",
       "    <tr>\n",
       "      <th>1976-01-01</th>\n",
       "      <td>864.6</td>\n",
       "      <td>NaN</td>\n",
       "      <td>NaN</td>\n",
       "    </tr>\n",
       "    <tr>\n",
       "      <th>1976-02-01</th>\n",
       "      <td>973.3</td>\n",
       "      <td>108.7</td>\n",
       "      <td>NaN</td>\n",
       "    </tr>\n",
       "    <tr>\n",
       "      <th>1976-03-01</th>\n",
       "      <td>1216.1</td>\n",
       "      <td>242.8</td>\n",
       "      <td>351.5</td>\n",
       "    </tr>\n",
       "    <tr>\n",
       "      <th>1976-04-01</th>\n",
       "      <td>1163.2</td>\n",
       "      <td>-52.9</td>\n",
       "      <td>189.9</td>\n",
       "    </tr>\n",
       "    <tr>\n",
       "      <th>1976-05-01</th>\n",
       "      <td>1176.1</td>\n",
       "      <td>12.9</td>\n",
       "      <td>-40.0</td>\n",
       "    </tr>\n",
       "  </tbody>\n",
       "</table>\n",
       "</div>"
      ],
      "text/plain": [
       "            LTOTALNSA  Diff_1  Diff_2\n",
       "DATE                                 \n",
       "1976-01-01      864.6     NaN     NaN\n",
       "1976-02-01      973.3   108.7     NaN\n",
       "1976-03-01     1216.1   242.8   351.5\n",
       "1976-04-01     1163.2   -52.9   189.9\n",
       "1976-05-01     1176.1    12.9   -40.0"
      ]
     },
     "execution_count": 97,
     "metadata": {},
     "output_type": "execute_result"
    }
   ],
   "source": [
    "df_diff = df.copy()\n",
    "\n",
    "# First order:   973.3 - 864.6 = 108.7\n",
    "df_diff['Diff_1'] = df_diff['LTOTALNSA'].diff(periods=1)\n",
    "\n",
    "# Second order: 1216.1 - 864.6 = 351.5\n",
    "df_diff['Diff_2'] = df_diff['LTOTALNSA'].diff(periods=2)\n",
    "\n",
    "df_diff.head()\n",
    "\n"
   ]
  },
  {
   "cell_type": "markdown",
   "metadata": {},
   "source": [
    "#### `Time Series Visualization`"
   ]
  },
  {
   "cell_type": "code",
   "execution_count": null,
   "metadata": {},
   "outputs": [],
   "source": []
  }
 ],
 "metadata": {
  "interpreter": {
   "hash": "375c74fd8c11b85bdfdf0d0a51867cc40572443e91947231b688f7b7116ba890"
  },
  "kernelspec": {
   "display_name": "Python 3.6.8 64-bit",
   "language": "python",
   "name": "python3"
  },
  "language_info": {
   "codemirror_mode": {
    "name": "ipython",
    "version": 3
   },
   "file_extension": ".py",
   "mimetype": "text/x-python",
   "name": "python",
   "nbconvert_exporter": "python",
   "pygments_lexer": "ipython3",
   "version": "3.6.8"
  },
  "orig_nbformat": 4
 },
 "nbformat": 4,
 "nbformat_minor": 2
}
